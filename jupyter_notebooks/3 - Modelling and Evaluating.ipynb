{
 "cells": [
  {
   "cell_type": "markdown",
   "metadata": {},
   "source": [
    "# Modelling and Evaluation"
   ]
  },
  {
   "cell_type": "markdown",
   "metadata": {},
   "source": [
    "## Objectives\n",
    "\n",
    "*   Business requirement 2: \n",
    "    * The client is interested in predicting if a cherry leaf is healthy or contains powdery mildew.\n",
    "\n",
    "## Inputs\n",
    "\n",
    "* inputs/cherry-leaves_dataset/cherry-leaves/train\n",
    "* inputs/cherry-leaves_dataset/cherry-leaves/test\n",
    "* inputs/cherry-leaves_dataset/cherry-leaves/validation\n",
    "* Image shape embeddings\n",
    "\n",
    "## Outputs\n",
    "\n",
    "* Plot distribution of images across train, validation, and test sets.\n",
    "* Perform image augmentation.\n",
    "* Map class indices to alter prediction inference for labels.\n",
    "* Create and train a machine learning model.\n",
    "* Save the model.\n",
    "* Plot learning curves to evaluate model performance.\n",
    "* Evaluate the model using a pickle file.\n",
    "* Make predictions on a randomly selected image file.\n",
    "\n",
    "## Additional Comments\n",
    "\n",
    "* No additional comments here. "
   ]
  }
 ],
 "metadata": {
  "kernelspec": {
   "display_name": "Python 3",
   "language": "python",
   "name": "python3"
  },
  "language_info": {
   "name": "python",
   "version": "3.8.18"
  }
 },
 "nbformat": 4,
 "nbformat_minor": 2
}
